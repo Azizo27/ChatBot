{
 "cells": [
  {
   "cell_type": "markdown",
   "metadata": {},
   "source": [
    "Load the .txt and create a character-based tokenization"
   ]
  },
  {
   "cell_type": "code",
   "execution_count": null,
   "metadata": {},
   "outputs": [],
   "source": [
    "with open(\"WizardOfOz.txt\",'r', encoding=\"utf-8\") as f:\n",
    "    text = f.read()\n",
    "\n",
    "word_based_tokens = sorted(set(text))"
   ]
  },
  {
   "cell_type": "markdown",
   "metadata": {},
   "source": [
    "Define the dictionaries for both sides"
   ]
  },
  {
   "cell_type": "code",
   "execution_count": null,
   "metadata": {},
   "outputs": [],
   "source": [
    "\n",
    "dict_values_as_key = {ch:i for i, ch in enumerate(word_based_tokens)}\n",
    "dict_index_as_key = {i:ch for i, ch in enumerate(word_based_tokens)}"
   ]
  },
  {
   "cell_type": "markdown",
   "metadata": {},
   "source": [
    "_NB: Instead of all the previous part, we could have used ord() which return automatically the unicode of a character (and to get from the unicode to the value, we use chr()).\n",
    "<br>With that, We don't need to create our own dictionaries_"
   ]
  },
  {
   "cell_type": "markdown",
   "metadata": {},
   "source": [
    "Encode and Decode functions "
   ]
  },
  {
   "cell_type": "code",
   "execution_count": 3,
   "metadata": {},
   "outputs": [],
   "source": [
    "\n",
    "encode = lambda original_string: [dict_values_as_key[c] for c in original_string]\n",
    "decode = lambda encoded_array : ''.join([dict_index_as_key[c] for c in encoded_array])\n",
    "\n",
    "\n",
    "# print(\"Example: Encoding and decoding of 'hello'\") \n",
    "# encoded_hello = encode('hello')\n",
    "# print(\"Encoding : \", encoded_hello) \n",
    "# decoded_hello = decode(encoded_hello)\n",
    "# print(\"Decoding : \", decoded_hello) "
   ]
  },
  {
   "cell_type": "markdown",
   "metadata": {},
   "source": [
    "Now, for our data, we won't use Numpy arrays, We use Tensors.\n",
    "<br>Tensors is very similar to classical array but comes from torch framework so it has more features for ML.\n",
    "_<br>NB: the variable 'word_based_tokens' was useful to create the dictionaries_"
   ]
  },
  {
   "cell_type": "code",
   "execution_count": 4,
   "metadata": {},
   "outputs": [
    {
     "data": {
      "text/plain": [
       "'cuda'"
      ]
     },
     "execution_count": 4,
     "metadata": {},
     "output_type": "execute_result"
    }
   ],
   "source": [
    "import torch\n",
    "device = 'cuda' if torch.cuda.is_available() else 'cpu'\n",
    "device"
   ]
  },
  {
   "cell_type": "code",
   "execution_count": 5,
   "metadata": {},
   "outputs": [],
   "source": [
    "data = torch.tensor(encode(text), dtype = torch.long) # Write the .txt in tensor format\n",
    "\n",
    "#Split into train/test data\n",
    "n = int(0.8 * len(data))\n",
    "train_data = data[:n]\n",
    "test_data = data[n:]"
   ]
  },
  {
   "cell_type": "code",
   "execution_count": null,
   "metadata": {},
   "outputs": [
    {
     "name": "stdout",
     "output_type": "stream",
     "text": [
      "when input in tensor is  tensor([72])  , the target is :  tensor(34)\n",
      "when input in tensor is  tensor([72, 34])  , the target is :  tensor(48)\n",
      "when input in tensor is  tensor([72, 34, 48])  , the target is :  tensor(45)\n",
      "when input in tensor is  tensor([72, 34, 48, 45])  , the target is :  tensor(1)\n",
      "when input in tensor is  tensor([72, 34, 48, 45,  1])  , the target is :  tensor(37)\n",
      "when input in tensor is  tensor([72, 34, 48, 45,  1, 37])  , the target is :  tensor(55)\n",
      "when input in tensor is  tensor([72, 34, 48, 45,  1, 37, 55])  , the target is :  tensor(54)\n",
      "when input in tensor is  tensor([72, 34, 48, 45,  1, 37, 55, 54])  , the target is :  tensor(44)\n"
     ]
    }
   ],
   "source": [
    "block_size = 8\n",
    "\n",
    "x = train_data[:block_size]\n",
    "y = train_data[1:block_size+1]\n",
    "\n",
    "# NB: If we wanted to take a block from a random section of our tensor:\n",
    "# import random\n",
    "# r = random.randint(0, len(train_data)- block_size + 1)\n",
    "# x = train_data[ r : r+block_size]\n",
    "# y = train_data[ r+1 :block_size+1]\n",
    "\n",
    "for i in range (block_size):\n",
    "    context = x[:i+1]\n",
    "    target = y[i]\n",
    "\n",
    "    print(\"when input in tensor is \", context, \" , the target is : \", target)"
   ]
  }
 ],
 "metadata": {
  "kernelspec": {
   "display_name": "cuda-gpt",
   "language": "python",
   "name": "env"
  },
  "language_info": {
   "codemirror_mode": {
    "name": "ipython",
    "version": 3
   },
   "file_extension": ".py",
   "mimetype": "text/x-python",
   "name": "python",
   "nbconvert_exporter": "python",
   "pygments_lexer": "ipython3",
   "version": "3.11.9"
  }
 },
 "nbformat": 4,
 "nbformat_minor": 2
}
