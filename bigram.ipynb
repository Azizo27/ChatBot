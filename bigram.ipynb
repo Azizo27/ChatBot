{
 "cells": [
  {
   "cell_type": "markdown",
   "metadata": {},
   "source": [
    "<h3>With Numpy arrays: </h3>   "
   ]
  },
  {
   "cell_type": "markdown",
   "metadata": {},
   "source": [
    "Load the .txt and create a character-based tokenization"
   ]
  },
  {
   "cell_type": "code",
   "execution_count": 22,
   "metadata": {},
   "outputs": [
    {
     "name": "stdout",
     "output_type": "stream",
     "text": [
      "['\\n', ' ', '!', '&', '(', ')', ',', '-', '.', '0', '1', '9', ':', ';', '?', 'A', 'B', 'C', 'D', 'E', 'F', 'G', 'H', 'I', 'J', 'K', 'L', 'M', 'N', 'O', 'P', 'Q', 'R', 'S', 'T', 'U', 'V', 'W', 'X', 'Y', 'Z', 'a', 'b', 'c', 'd', 'e', 'f', 'g', 'h', 'i', 'j', 'k', 'l', 'm', 'n', 'o', 'p', 'q', 'r', 's', 't', 'u', 'v', 'w', 'x', 'y', 'z', '—', '‘', '’', '“', '”', '\\ufeff']\n"
     ]
    }
   ],
   "source": [
    "with open(\"wizard_of_oz.txt\",'r', encoding=\"utf-8\") as f:\n",
    "    text = f.read()\n",
    "\n",
    "character_based_tokens = sorted(set(text))\n",
    "print(character_based_tokens)"
   ]
  },
  {
   "cell_type": "markdown",
   "metadata": {},
   "source": [
    "Define the dictionaries for both sides"
   ]
  },
  {
   "cell_type": "code",
   "execution_count": 23,
   "metadata": {},
   "outputs": [],
   "source": [
    "\n",
    "dict_values_as_key = {ch:i for i, ch in enumerate(character_based_tokens)}\n",
    "dict_index_as_key = {i:ch for i, ch in enumerate(character_based_tokens)}"
   ]
  },
  {
   "cell_type": "markdown",
   "metadata": {},
   "source": [
    "_NB: Instead of all the previous part, we could have used ord() which return automatically the unicode of a character (and to get from the unicode to the value, we use chr()).\n",
    "<br>With that, We don't need to create our own dictionaries_"
   ]
  },
  {
   "cell_type": "markdown",
   "metadata": {},
   "source": [
    "Encode and Decode functions "
   ]
  },
  {
   "cell_type": "code",
   "execution_count": 24,
   "metadata": {},
   "outputs": [],
   "source": [
    "\n",
    "encode = lambda original_string: [dict_values_as_key[c] for c in original_string]\n",
    "decode = lambda encoded_array : ''.join([dict_index_as_key[c] for c in encoded_array])\n",
    "\n",
    "\n",
    "# print(\"Example: Encoding and decoding of 'hello'\") \n",
    "# encoded_hello = encode('hello')\n",
    "# print(\"Encoding : \", encoded_hello) \n",
    "# decoded_hello = decode(encoded_hello)\n",
    "# print(\"Decoding : \", decoded_hello) "
   ]
  },
  {
   "cell_type": "markdown",
   "metadata": {},
   "source": [
    "<h3>With Tensors: </h3>   "
   ]
  },
  {
   "cell_type": "markdown",
   "metadata": {},
   "source": [
    "Now, for our data, we won't use Numpy arrays, We use Tensors.\n",
    "<br>Tensors is very similar to classical array but comes from torch framework so it has more features for ML.\n",
    "_<br>NB: the variable 'character_based_tokens' was useful to create the dictionaries_"
   ]
  },
  {
   "cell_type": "markdown",
   "metadata": {},
   "source": [
    "1- Import and predefined size:"
   ]
  },
  {
   "cell_type": "code",
   "execution_count": 25,
   "metadata": {},
   "outputs": [
    {
     "name": "stdout",
     "output_type": "stream",
     "text": [
      "cuda\n"
     ]
    }
   ],
   "source": [
    "import torch\n",
    "import torch.nn as nn\n",
    "import torch.nn.functional as F\n",
    "\n",
    "device = 'cuda' if torch.cuda.is_available() else 'cpu'\n",
    "print(device)\n",
    "\n",
    "batch_size = 4 #How many blocks run on parallel, also called B\n",
    "block_size = 8 #The length of each block, also called T\n",
    "vocab_size = len(character_based_tokens) #the number of tokens, also called C"
   ]
  },
  {
   "cell_type": "markdown",
   "metadata": {},
   "source": [
    "2- Create a tensor with .txt encoded, then split it into training and testing datasets:"
   ]
  },
  {
   "cell_type": "code",
   "execution_count": 26,
   "metadata": {},
   "outputs": [],
   "source": [
    "data = torch.tensor(encode(text), dtype = torch.long) # Write the .txt in tensor format\n",
    "\n",
    "#Split into train/test data\n",
    "n = int(0.8 * len(data))\n",
    "train_data = data[:n]\n",
    "test_data = data[n:]"
   ]
  },
  {
   "cell_type": "markdown",
   "metadata": {},
   "source": [
    "3- function to get batches x and y: \n",
    "<br>*NB: It takes as parameter train_data or test_data*"
   ]
  },
  {
   "cell_type": "code",
   "execution_count": 27,
   "metadata": {},
   "outputs": [],
   "source": [
    "def get_batch(data):\n",
    "\n",
    "    maximum_index = len(data) - block_size # Get the last available index where operations can occur correctly\n",
    "    tab_ix = torch.randint(maximum_index, (batch_size,)) # Generate a 1D tensor of indexes selected randomnly. \n",
    "    #NB: It has 'batch_size' columns. It fills these columns with integer values from 0 to maximum_index\n",
    "\n",
    "    x = torch.stack([data[i:i+block_size] for i in tab_ix]) #For each index, we create a 1D tensor of 'block_size' number of columns. At the end, we stack all these tensors together\n",
    "\n",
    "\n",
    "    y = torch.stack([data[i+1:i+block_size+1] for i in tab_ix]) #Same logic as for x but we do it with an offset of 1 for each index (for example, in y, we start the operations on data at index 72 instead of index 71). \n",
    "\n",
    "    #At the end, we have two batches: x and y. \n",
    "\n",
    "    # Move the batches to the specified device (GPU or CPU)\n",
    "    x, y = x.to(device), y.to(device)\n",
    "    return x, y"
   ]
  },
  {
   "cell_type": "markdown",
   "metadata": {},
   "source": [
    "4- Class Bigram:"
   ]
  },
  {
   "cell_type": "code",
   "execution_count": null,
   "metadata": {},
   "outputs": [
    {
     "name": "stdout",
     "output_type": "stream",
     "text": [
      "tensor([[0., 0.]])\n"
     ]
    }
   ],
   "source": [
    "class BigramLanguageModel(nn.Module):\n",
    "    def __init__(self, vocab_size):\n",
    "        super().__init__()\n",
    "        self.tab_token_embedding = nn.Embedding(num_embeddings=vocab_size, embedding_dim=vocab_size) #We create a variable tab_token_embedding.\n",
    "        #We do 'vocab_size*vocab_size' so that every letters can be associated (for example, for row a: aa, ab, ac, ad, ...)\n",
    "        #For more detail on embedded vectors, check torch_functions.ipynb\n",
    "        \n",
    "    def forward(self, indexes, targets=None):\n",
    "        logits = self.tab_token_embedding(indexes) #To remember, EACH ROW of tab_token_embedding correspond to ONE TOKEN (or character).\n",
    "                                                   # To make it simple, in this line, EACH INDEX in indexes will be replaced with its corresponding row. \n",
    "                                                   # With that, we get logits: logits.shape: (B, T, C)\n",
    "        if targets is None:\n",
    "            loss = None\n",
    "        else:\n",
    "            B, T, C = logits.shape #B is the batch size, T is the block_size and C is the vocab_size\n",
    "\n",
    "            logits = logits.view(B*T, C) # We convert our logits 3D Tensor: (B,T,C), into a 2DTensor: (B*T , C)\n",
    "            targets = targets.view(B*T) #We convert our targets 2D Tensor: (B,T), into a 1DTensor: (B*T)\n",
    "\n",
    "            loss = F.cross_entropy(logits, targets) #We want it to be smaller and smaller because it means we get clause\n",
    "        \n",
    "        return logits, loss\n",
    "    \n",
    "    def generate_tokens(self, indexes, max_new_tokens): \n",
    "        for _ in range(max_new_tokens):\n",
    "            logits, loss = self.forward(indexes) #Get the prediction\n",
    "            # focus only on the last time step\n",
    "            logits = logits[:, -1, :] # becomes (B, C)\n",
    "            # apply softmax to get probabilities\n",
    "            probs = F.softmax(logits, dim=-1) # (B, C)\n",
    "            # sample from the distribution\n",
    "            index_next = torch.multinomial(probs, num_samples=1) # (B, 1)\n",
    "            # append sampled index to the running sequence\n",
    "            indexes = torch.cat((indexes, index_next), dim=1) # (B, T+1)\n",
    "        return indexes\n",
    "\n",
    "        \n",
    "\n",
    "context = torch.tensor([[0]], dtype=torch.long, device=device)\n",
    "targets = torch.randint(0, vocab_size, (batch_size, block_size))  # Shape: (B, T). Each colonne values between 0 and vocab_size\n"
   ]
  },
  {
   "cell_type": "code",
   "execution_count": 29,
   "metadata": {},
   "outputs": [],
   "source": [
    "# x = train_data[:block_size]\n",
    "# y = train_data[1:block_size+1]\n",
    "\n",
    "# # NB: If we wanted to take a block from a random section of our tensor:\n",
    "# # import random\n",
    "# # r = random.randint(0, len(train_data)- block_size + 1)\n",
    "# # x = train_data[ r : r+block_size]\n",
    "# # y = train_data[ r+1 :block_size+1]\n",
    "\n",
    "# for i in range (block_size):\n",
    "#     context = x[:i+1]\n",
    "#     target = y[i]\n",
    "\n",
    "#     print(\"when input in tensor is \", context, \" , the target is : \", target)"
   ]
  }
 ],
 "metadata": {
  "kernelspec": {
   "display_name": "cuda-gpt",
   "language": "python",
   "name": "env"
  },
  "language_info": {
   "codemirror_mode": {
    "name": "ipython",
    "version": 3
   },
   "file_extension": ".py",
   "mimetype": "text/x-python",
   "name": "python",
   "nbconvert_exporter": "python",
   "pygments_lexer": "ipython3",
   "version": "3.11.9"
  }
 },
 "nbformat": 4,
 "nbformat_minor": 2
}
